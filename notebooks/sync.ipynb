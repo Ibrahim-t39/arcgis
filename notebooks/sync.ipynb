{
 "cells": [
  {
   "cell_type": "code",
   "execution_count": 102,
   "metadata": {},
   "outputs": [
    {
     "name": "stdout",
     "output_type": "stream",
     "text": [
      "Requirement already satisfied: pytesseract in c:\\users\\pc\\appdata\\local\\programs\\python\\python311\\lib\\site-packages (0.3.13)\n",
      "Requirement already satisfied: packaging>=21.3 in c:\\users\\pc\\appdata\\local\\programs\\python\\python311\\lib\\site-packages (from pytesseract) (24.2)\n",
      "Requirement already satisfied: Pillow>=8.0.0 in c:\\users\\pc\\appdata\\local\\programs\\python\\python311\\lib\\site-packages (from pytesseract) (11.0.0)\n",
      "Note: you may need to restart the kernel to use updated packages.\n"
     ]
    },
    {
     "name": "stderr",
     "output_type": "stream",
     "text": [
      "\n",
      "[notice] A new release of pip is available: 24.3.1 -> 25.0.1\n",
      "[notice] To update, run: python.exe -m pip install --upgrade pip\n"
     ]
    },
    {
     "name": "stdout",
     "output_type": "stream",
     "text": [
      "Note: you may need to restart the kernel to use updated packages.Requirement already satisfied: openpyxl in c:\\users\\pc\\appdata\\local\\programs\\python\\python311\\lib\\site-packages (3.1.5)\n",
      "Requirement already satisfied: et-xmlfile in c:\\users\\pc\\appdata\\local\\programs\\python\\python311\\lib\\site-packages (from openpyxl) (2.0.0)\n",
      "\n"
     ]
    },
    {
     "name": "stderr",
     "output_type": "stream",
     "text": [
      "\n",
      "[notice] A new release of pip is available: 24.3.1 -> 25.0.1\n",
      "[notice] To update, run: python.exe -m pip install --upgrade pip\n"
     ]
    }
   ],
   "source": [
    "import requests\n",
    "import os\n",
    "%pip install pytesseract\n",
    "%pip install openpyxl\n",
    "\n",
    "# === Config ===\n",
    "FEATURE_LAYER_URL = \"https://services5.arcgis.com/s1DFLqWfkSIcXZ9O/ArcGIS/rest/services/survey123_24aa1572e50e42e8aa193dad894f57af_results/FeatureServer/0\"\n",
    "TOKEN = \"mzFcMRqhxzPAoRJavp2MJg-w3Fau_D0Ix0Qviif4Gs2B6QMLbfdRhemy-rS5IGGgZCF2xD3K_WcpdZ8nn-17hd3ZFfIcZAnk5Rce0_Vih8PwNhBJJy-RhxV1Ni6BIc6dv6sxa-nKL3nwTZZMVHRTukzlRFVOEv5Hci8x9SItu_eAloH56MJ-pE_qlZpnfLki\"  # Securely retrieve from .env or secret manager\n",
    "\n",
    "# === Get last OBJECTID ===\n",
    "def get_latest_object_id():\n",
    "    query_url = f\"{FEATURE_LAYER_URL}/query\"\n",
    "    params = {\n",
    "        \"where\": \"1=1\",\n",
    "        \"orderByFields\": \"OBJECTID desc\",\n",
    "        \"returnIdsOnly\": \"true\",\n",
    "        \"f\": \"json\",\n",
    "        \"token\": TOKEN\n",
    "    }\n",
    "    response = requests.get(query_url, params=params)\n",
    "    if response.status_code == 200:\n",
    "        ids = response.json().get(\"objectIds\", [])\n",
    "        return ids[0] if ids else None\n",
    "    else:\n",
    "        raise Exception(\"Failed to get OBJECTID list\")\n",
    "\n",
    "# === Get attachment metadata ===\n",
    "def get_attachment_info(object_id):\n",
    "    url = f\"{FEATURE_LAYER_URL}/{object_id}/attachments\"\n",
    "    params = {\"f\": \"json\", \"token\": TOKEN}\n",
    "    response = requests.get(url, params=params)\n",
    "    return response.json().get(\"attachmentInfos\", []) if response.status_code == 200 else []\n",
    "\n",
    "# === Download the image file ===\n",
    "def download_image(attachment, object_id):\n",
    "    att_id = attachment['id']\n",
    "    filename = attachment['name'].replace(\" \", \"_\")\n",
    "    image_url = f\"{FEATURE_LAYER_URL}/{object_id}/attachments/{att_id}?token={TOKEN}\"\n",
    "    local_path = os.path.join(\"downloaded_images\", f\"{object_id}_{filename}\")\n",
    "\n",
    "    os.makedirs(\"downloaded_images\", exist_ok=True)\n",
    "    with open(local_path, \"wb\") as f:\n",
    "        response = requests.get(image_url)\n",
    "        f.write(response.content)\n",
    "    return local_path\n"
   ]
  },
  {
   "cell_type": "code",
   "execution_count": 103,
   "metadata": {},
   "outputs": [],
   "source": [
    "def predict_material(image_path):\n",
    "    API_URL = \"https://pipe-ai-model.onrender.com/predict\"\n",
    "    with open(image_path, \"rb\") as f:\n",
    "        files = {\"file\": f}\n",
    "        res = requests.post(API_URL, files=files)\n",
    "    \n",
    "    if res.status_code == 200:\n",
    "        return res.json()\n",
    "    else:\n",
    "        raise Exception(f\"Prediction failed: {res.status_code} - {res.text}\")\n"
   ]
  },
  {
   "cell_type": "code",
   "execution_count": 104,
   "metadata": {},
   "outputs": [],
   "source": [
    "import csv\n",
    "from datetime import datetime\n",
    "\n",
    "def save_result(result, image_path):\n",
    "    output_path = \"predictions_log.csv\"\n",
    "    header = [\"timestamp\", \"filename\", \"prediction\"]\n",
    "    row = [datetime.now().isoformat(), os.path.basename(image_path), result[\"prediction\"]]\n",
    "\n",
    "    file_exists = os.path.exists(output_path)\n",
    "    with open(output_path, \"a\", newline=\"\") as f:\n",
    "        writer = csv.writer(f)\n",
    "        if not file_exists:\n",
    "            writer.writerow(header)\n",
    "        writer.writerow(row)\n",
    "\n",
    "    print(f\"✅ Prediction saved: {row}\")\n"
   ]
  },
  {
   "cell_type": "code",
   "execution_count": 105,
   "metadata": {},
   "outputs": [
    {
     "name": "stdout",
     "output_type": "stream",
     "text": [
      "🔍 Checking for new Survey123 submission...\n",
      "📥 Downloading image from OBJECTID 2\n",
      "🧠 Sending image to AI model...\n",
      "📊 Prediction: PVC\n",
      "✅ Prediction saved: ['2025-04-02T20:44:44.781844', '2_1_Inch_Inside_SCH_40_PVC_Pipe.jpg', 'PVC']\n"
     ]
    }
   ],
   "source": [
    "def run_pipeline():\n",
    "    try:\n",
    "        print(\"🔍 Checking for new Survey123 submission...\")\n",
    "        oid = get_latest_object_id()\n",
    "        if not oid:\n",
    "            print(\"No submissions found.\")\n",
    "            return\n",
    "\n",
    "        attachments = get_attachment_info(oid)\n",
    "        if not attachments:\n",
    "            print(f\"No attachments found for OBJECTID {oid}\")\n",
    "            return\n",
    "\n",
    "        print(f\"📥 Downloading image from OBJECTID {oid}\")\n",
    "        image_path = download_image(attachments[0], oid)\n",
    "\n",
    "        print(f\"🧠 Sending image to AI model...\")\n",
    "        prediction = predict_material(image_path)\n",
    "\n",
    "        print(f\"📊 Prediction: {prediction['prediction']}\")\n",
    "        save_result(prediction, image_path)\n",
    "\n",
    "    except Exception as e:\n",
    "        print(f\"❌ Pipeline failed: {e}\")\n",
    "\n",
    "# Run\n",
    "if __name__ == \"__main__\":\n",
    "    run_pipeline()\n"
   ]
  },
  {
   "cell_type": "code",
   "execution_count": 106,
   "metadata": {},
   "outputs": [],
   "source": [
    "  # ✅ LEAD SERVICE LINE IDENTIFIER (PIPE + TAP CARD + ADDRESS)\n",
    "\n",
    "\n",
    "\n",
    "import requests\n",
    "import os\n",
    "import pytesseract\n",
    "from PIL import Image\n",
    "import imagehash\n",
    "from io import BytesIO\n",
    "import pandas as pd\n",
    "\n",
    "# === CONFIG ===\n",
    "FEATURE_LAYER_URL = \"https://services5.arcgis.com/s1DFLqWfkSIcXZ9O/ArcGIS/rest/services/survey123_24aa1572e50e42e8aa193dad894f57af_results/FeatureServer/0\"\n",
    "TOKEN = \"mzFcMRqhxzPAoRJavp2MJg-w3Fau_D0Ix0Qviif4Gs2B6QMLbfdRhemy-rS5IGGgZCF2xD3K_WcpdZ8nn-17hd3ZFfIcZAnk5Rce0_Vih8PwNhBJJy-RhxV1Ni6BIc6dv6sxa-nKL3nwTZZMVHRTukzlRFVOEv5Hci8x9SItu_eAloH56MJ-pE_qlZpnfLki\"\n",
    "AI_MODEL_URL = \"https://pipe-ai-model.onrender.com/predict\"\n",
    "KNOWN_ADDRESSES_FILE = \"ocr_data/StudentPotHoleSheet_FletcherDr.xlsx\"\n",
    "\n",
    "\n",
    "# === STEP 1: GET LATEST RECORD ===\n",
    "# def get_latest_object_id():\n",
    "#     url = f\"{FEATURE_LAYER_URL}/query\"\n",
    "#     params = {\n",
    "#         \"where\": \"1=1\",\n",
    "#         \"outFields\": \"*\",\n",
    "#         \"orderByFields\": \"OBJECTID DESC\",\n",
    "#         \"resultRecordCount\": 1,\n",
    "#         \"f\": \"json\",\n",
    "#         \"token\": TOKEN\n",
    "#     }\n",
    "#     r = requests.get(url, params=params)\n",
    "#     data = r.json()\n",
    "#     print(data['features'][0]['attributes'])\n",
    "#     return data['features'][0]['attributes'], data['features'][0]['attributes']['OBJECTID']\n",
    "\n",
    "def get_latest_object_id():\n",
    "    url = f\"{FEATURE_LAYER_URL}/query\"\n",
    "    params = {\n",
    "        \"where\": \"1=1\",\n",
    "        \"outFields\": \"*\",\n",
    "        \"orderByFields\": \"CreationDate DESC\",\n",
    "        \"resultRecordCount\": 1,\n",
    "        \"f\": \"json\",\n",
    "        \"token\": TOKEN\n",
    "    }\n",
    "    r = requests.get(url, params=params)\n",
    "    data = r.json()\n",
    "    \n",
    "    if data.get(\"features\"):\n",
    "        latest = data['features'][0]\n",
    "        record = latest.get(\"attributes\", latest)  # fallback in case not nested\n",
    "        return record, record['objectid']\n",
    "    else:\n",
    "        raise ValueError(\"No records found in the survey data.\")\n"
   ]
  },
  {
   "cell_type": "code",
   "execution_count": 107,
   "metadata": {},
   "outputs": [],
   "source": [
    "# === STEP 2: DOWNLOAD ATTACHMENT FOR LATEST ===\n",
    "def download_latest_attachment(object_id):\n",
    "    att_url = f\"{FEATURE_LAYER_URL}/{object_id}/attachments\"\n",
    "    params = {\"f\": \"json\", \"token\": TOKEN}\n",
    "    r = requests.get(att_url, params=params)\n",
    "    att_id = r.json()['attachmentInfos'][0]['id']\n",
    "\n",
    "    # Download attachment\n",
    "    file_url = f\"{FEATURE_LAYER_URL}/{object_id}/attachments/{att_id}?token={TOKEN}\"\n",
    "    r = requests.get(file_url)\n",
    "    filename = f\"downloads/{object_id}_attachment.jpg\"\n",
    "    os.makedirs(\"downloads\", exist_ok=True)\n",
    "    with open(filename, 'wb') as f:\n",
    "        f.write(r.content)\n",
    "    return filename"
   ]
  },
  {
   "cell_type": "code",
   "execution_count": 108,
   "metadata": {},
   "outputs": [],
   "source": [
    "# === STEP 3: SEND TO AI MODEL ===\n",
    "def predict_pipe_material(image_path):\n",
    "    with open(image_path, \"rb\") as img_file:\n",
    "        res = requests.post(AI_MODEL_URL, files={\"file\": img_file})\n",
    "        return res.json().get(\"prediction\", \"Unknown\")"
   ]
  },
  {
   "cell_type": "code",
   "execution_count": 109,
   "metadata": {},
   "outputs": [],
   "source": [
    "# === STEP 4: OCR + ADDRESS RAG VERIFICATION ===\n",
    "def verify_address_with_database(image_path, reported_address):\n",
    "    try:\n",
    "        df = pd.read_excel(KNOWN_ADDRESSES_FILE)\n",
    "        known_addresses = df[\"Address\"].dropna().str.lower().tolist()\n",
    "\n",
    "        # OCR to extract text\n",
    "        ocr_text = pytesseract.image_to_string(Image.open(image_path)).lower()\n",
    "\n",
    "        # Check if any known address is in OCR text\n",
    "        for known in known_addresses:\n",
    "            if known in ocr_text:\n",
    "                return known  # ✅ Return matched correct address\n",
    "        return None\n",
    "\n",
    "    except Exception as e:\n",
    "        print(f\"OCR Verification Error: {e}\")\n",
    "        return None"
   ]
  },
  {
   "cell_type": "code",
   "execution_count": 110,
   "metadata": {},
   "outputs": [
    {
     "name": "stdout",
     "output_type": "stream",
     "text": [
      "OCR Verification Error: 'Address'\n",
      "\n",
      "📥 Survey Record: {'objectid': 2, 'globalid': '1fdabcd0-bf53-450d-8dd0-445a69792eb7', 'CreationDate': 1743613816696, 'Creator': 'thabo.traore_AAMU', 'EditDate': 1743613816696, 'Editor': 'thabo.traore_AAMU', 'staff_name': 'Ibrahim', 'field_survey_date': 1743613200000, 'service_type': 'Potholed', 'address': 'Huntsville, AL, USA', 'system_owned_material': 'Copper', 'system_owned_material_other': None, 'system_owned_notes': 'N/A', 'customer_owned_material': 'Copper', 'customer_owned_material_other': None, 'customer_owned_notes': 'N/A', 'lead_fittings': 'Yes', 'fittingssolder_notes': 'N/A'}\n",
      "🔍 AI Prediction: PVC\n",
      "📍 Address Reported: huntsville, al, usa\n",
      "✅ Verified Match: ❌ No Match\n",
      "🔴 Address verification failed. Hold for manual review.\n"
     ]
    }
   ],
   "source": [
    "# === STEP 5: ORCHESTRATION ===\n",
    "def run_pipeline():\n",
    "    survey_data, oid = get_latest_object_id()\n",
    "    reported_address = survey_data.get(\"address\", \"\").lower()\n",
    "\n",
    "    img_path = download_latest_attachment(oid)\n",
    "    prediction = predict_pipe_material(img_path)\n",
    "    verified_address = verify_address_with_database(img_path, reported_address)\n",
    "\n",
    "    print(\"\\n📥 Survey Record:\", survey_data)\n",
    "    print(\"🔍 AI Prediction:\", prediction)\n",
    "    print(\"📍 Address Reported:\", reported_address)\n",
    "    print(\"✅ Verified Match:\", verified_address if verified_address else \"❌ No Match\")\n",
    "\n",
    "    if verified_address:\n",
    "        print(\"🟢 All checks passed. Ready to upload to 120Water!\")\n",
    "    else:\n",
    "        print(\"🔴 Address verification failed. Hold for manual review.\")\n",
    "\n",
    "\n",
    "if __name__ == \"__main__\":\n",
    "    run_pipeline()\n"
   ]
  },
  {
   "cell_type": "code",
   "execution_count": 111,
   "metadata": {},
   "outputs": [
    {
     "name": "stdout",
     "output_type": "stream",
     "text": [
      "📁 Current Working Directory: c:\\Users\\PC\\OneDrive\\DOCUMENTS\\GITHUB\\arcgis\\notebooks\n"
     ]
    }
   ],
   "source": [
    "import os\n",
    "\n",
    "print(\"📁 Current Working Directory:\", os.getcwd())\n"
   ]
  },
  {
   "cell_type": "code",
   "execution_count": 112,
   "metadata": {},
   "outputs": [
    {
     "name": "stdout",
     "output_type": "stream",
     "text": [
      "No image attachments found.\n"
     ]
    }
   ],
   "source": [
    "import requests\n",
    "\n",
    "# Base info\n",
    "FEATURE_LAYER_URL = \"https://services5.arcgis.com/s1DFLqWfkSIcXZ9O/ArcGIS/rest/services/survey123_24aa1572e50e42e8aa193dad894f57af_results/FeatureServer/0\"\n",
    "TOKEN = \"mzFcMRqhxzPAoRJavp2MJg-w3Fau_D0Ix0Qviif4Gs2B6QMLbfdRhemy-rS5IGGgZCF2xD3K_WcpdZ8nn-17hZfwrssrW7Ne3VAAL7ZevueruBrhqVNxYL_dztEGkBKuCgs0zyzJxbkFs4rCovFSgb5aq2vxX-9Zkp3SFu3x3Sxo6q1cyxMxFkDL_jaC627O\"\n",
    "\n",
    "# Step 1: Get all OBJECTIDs\n",
    "def get_object_ids():\n",
    "    url = f\"{FEATURE_LAYER_URL}/query\"\n",
    "    params = {\n",
    "        \"where\": \"1=1\",\n",
    "        \"returnIdsOnly\": \"true\",\n",
    "        \"f\": \"json\",\n",
    "        \"token\": TOKEN\n",
    "    }\n",
    "    r = requests.get(url, params=params)\n",
    "    if r.status_code == 200:\n",
    "        return r.json().get(\"objectIds\", [])\n",
    "    else:\n",
    "        print(\"Error getting object IDs:\", r.text)\n",
    "        return []\n",
    "\n",
    "# Step 2: Check for attachments\n",
    "def get_attachments_for_object(object_id):\n",
    "    url = f\"{FEATURE_LAYER_URL}/{object_id}/attachments\"\n",
    "    params = {\n",
    "        \"f\": \"json\",\n",
    "        \"token\": TOKEN\n",
    "    }\n",
    "    r = requests.get(url, params=params)\n",
    "    if r.status_code == 200:\n",
    "        return r.json().get(\"attachmentInfos\", [])\n",
    "    return []\n",
    "\n",
    "# Step 3: Loop and find those with images\n",
    "def list_image_urls():\n",
    "    object_ids = get_object_ids()\n",
    "    all_image_links = []\n",
    "    \n",
    "    for oid in object_ids:\n",
    "        attachments = get_attachments_for_object(oid)\n",
    "        for att in attachments:\n",
    "            image_url = f\"{FEATURE_LAYER_URL}/{oid}/attachments/{att['id']}?token={TOKEN}\"\n",
    "            all_image_links.append({\n",
    "                \"object_id\": oid,\n",
    "                \"filename\": att[\"name\"],\n",
    "                \"url\": image_url\n",
    "            })\n",
    "\n",
    "    return all_image_links\n",
    "\n",
    "# Main\n",
    "if __name__ == \"__main__\":\n",
    "    images = list_image_urls()\n",
    "    if images:\n",
    "        print(\"📸 Found image attachments:\")\n",
    "        for img in images:\n",
    "            print(f\"OID {img['object_id']}: {img['filename']} → {img['url']}\")\n",
    "    else:\n",
    "        print(\"No image attachments found.\")\n"
   ]
  }
 ],
 "metadata": {
  "kernelspec": {
   "display_name": "Python 3",
   "language": "python",
   "name": "python3"
  },
  "language_info": {
   "codemirror_mode": {
    "name": "ipython",
    "version": 3
   },
   "file_extension": ".py",
   "mimetype": "text/x-python",
   "name": "python",
   "nbconvert_exporter": "python",
   "pygments_lexer": "ipython3",
   "version": "3.11.5"
  }
 },
 "nbformat": 4,
 "nbformat_minor": 2
}
